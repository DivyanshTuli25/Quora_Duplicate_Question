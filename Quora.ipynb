{
  "cells": [
    {
      "cell_type": "code",
      "execution_count": null,
      "metadata": {
        "colab": {
          "base_uri": "https://localhost:8080/"
        },
        "id": "j-CyLDk9ppjs",
        "outputId": "1c4458e2-d269-4275-8348-81923848d55e"
      },
      "outputs": [
        {
          "name": "stderr",
          "output_type": "stream",
          "text": [
            "[nltk_data] Downloading package stopwords to /root/nltk_data...\n",
            "[nltk_data]   Package stopwords is already up-to-date!\n",
            "[nltk_data] Downloading package punkt to /root/nltk_data...\n",
            "[nltk_data]   Package punkt is already up-to-date!\n",
            "[nltk_data] Downloading package stopwords to /root/nltk_data...\n",
            "[nltk_data]   Package stopwords is already up-to-date!\n"
          ]
        }
      ],
      "source": [
        "import pandas as pd\n",
        "import numpy as np\n",
        "import nltk\n",
        "nltk.download('stopwords')\n",
        "nltk.download('punkt')\n",
        "import matplotlib.pyplot as plt\n",
        "from sklearn.model_selection import train_test_split\n",
        "from nltk.corpus import stopwords\n",
        "nltk.download('stopwords')\n",
        "from nltk import word_tokenize\n",
        "from sklearn.ensemble import RandomForestClassifier\n",
        "from sklearn.metrics import accuracy_score\n",
        "import re"
      ]
    },
    {
      "cell_type": "code",
      "execution_count": null,
      "metadata": {
        "colab": {
          "background_save": true,
          "base_uri": "https://localhost:8080/"
        },
        "id": "Npfi171rqvLf",
        "outputId": "6dca008a-e761-4a02-f17c-2e039150de8f"
      },
      "outputs": [
        {
          "name": "stderr",
          "output_type": "stream",
          "text": [
            "<ipython-input-3-f5b03f6697f7>:1: FutureWarning: The error_bad_lines argument has been deprecated and will be removed in a future version. Use on_bad_lines in the future.\n",
            "\n",
            "\n",
            "  df = pd.read_csv('/content/questions.csv',error_bad_lines=False, engine=\"python\")\n",
            "Skipping line 133839: unexpected end of data\n"
          ]
        }
      ],
      "source": [
        "df = pd.read_csv('/content/questions.csv',error_bad_lines=False, engine=\"python\")"
      ]
    },
    {
      "cell_type": "code",
      "execution_count": null,
      "metadata": {
        "colab": {
          "background_save": true,
          "base_uri": "https://localhost:8080/"
        },
        "id": "zLs5pc2frGuG",
        "outputId": "9fa88588-672d-4a63-d9be-815980238136"
      },
      "outputs": [
        {
          "data": {
            "text/plain": [
              "id              0\n",
              "qid1            0\n",
              "qid2            0\n",
              "question1       0\n",
              "question2       1\n",
              "is_duplicate    0\n",
              "dtype: int64"
            ]
          },
          "execution_count": 4,
          "metadata": {},
          "output_type": "execute_result"
        }
      ],
      "source": [
        "df.isnull().sum()"
      ]
    },
    {
      "cell_type": "code",
      "execution_count": null,
      "metadata": {
        "colab": {
          "background_save": true,
          "base_uri": "https://localhost:8080/"
        },
        "id": "DgB68cj7XDfP",
        "outputId": "0d270795-4b08-4aed-d4a8-8c4ce7fb9cdd"
      },
      "outputs": [
        {
          "data": {
            "text/plain": [
              "(133837, 6)"
            ]
          },
          "execution_count": 5,
          "metadata": {},
          "output_type": "execute_result"
        }
      ],
      "source": [
        "df.shape"
      ]
    },
    {
      "cell_type": "code",
      "execution_count": null,
      "metadata": {
        "colab": {
          "background_save": true
        },
        "id": "ml3RJW5jriss"
      },
      "outputs": [],
      "source": [
        "df.dropna(axis = 0, inplace =True)"
      ]
    },
    {
      "cell_type": "code",
      "execution_count": null,
      "metadata": {
        "colab": {
          "background_save": true,
          "base_uri": "https://localhost:8080/"
        },
        "id": "qlyU7qPZryne",
        "outputId": "97db1b54-32ca-42fb-92b5-a3500057bc97"
      },
      "outputs": [
        {
          "data": {
            "text/plain": [
              "id              0\n",
              "qid1            0\n",
              "qid2            0\n",
              "question1       0\n",
              "question2       0\n",
              "is_duplicate    0\n",
              "dtype: int64"
            ]
          },
          "execution_count": 7,
          "metadata": {},
          "output_type": "execute_result"
        }
      ],
      "source": [
        "df.isnull().sum()"
      ]
    },
    {
      "cell_type": "code",
      "execution_count": null,
      "metadata": {
        "colab": {
          "background_save": true,
          "base_uri": "https://localhost:8080/"
        },
        "id": "eesTr_qyXIQf",
        "outputId": "74055d6c-6208-43b2-9d7b-d20dbb792975"
      },
      "outputs": [
        {
          "data": {
            "text/plain": [
              "(133836, 6)"
            ]
          },
          "execution_count": 8,
          "metadata": {},
          "output_type": "execute_result"
        }
      ],
      "source": [
        "df.shape"
      ]
    },
    {
      "cell_type": "code",
      "execution_count": null,
      "metadata": {
        "colab": {
          "background_save": true
        },
        "id": "yEj4QxJ_rzym"
      },
      "outputs": [],
      "source": [
        "df =pd.DataFrame(df)"
      ]
    },
    {
      "cell_type": "code",
      "execution_count": null,
      "metadata": {
        "colab": {
          "background_save": true,
          "base_uri": "https://localhost:8080/"
        },
        "id": "71OmlCfRr7Kz",
        "outputId": "f68ab681-54f3-4044-ca2a-de88d54000d9"
      },
      "outputs": [
        {
          "name": "stdout",
          "output_type": "stream",
          "text": [
            "<class 'pandas.core.frame.DataFrame'>\n",
            "Int64Index: 133836 entries, 0 to 133836\n",
            "Data columns (total 6 columns):\n",
            " #   Column        Non-Null Count   Dtype \n",
            "---  ------        --------------   ----- \n",
            " 0   id            133836 non-null  int64 \n",
            " 1   qid1          133836 non-null  int64 \n",
            " 2   qid2          133836 non-null  int64 \n",
            " 3   question1     133836 non-null  object\n",
            " 4   question2     133836 non-null  object\n",
            " 5   is_duplicate  133836 non-null  int64 \n",
            "dtypes: int64(4), object(2)\n",
            "memory usage: 7.1+ MB\n"
          ]
        }
      ],
      "source": [
        "df.info()"
      ]
    },
    {
      "cell_type": "code",
      "execution_count": null,
      "metadata": {
        "colab": {
          "background_save": true
        },
        "id": "C3eA4n6br8dA"
      },
      "outputs": [],
      "source": [
        "df.drop('id',axis = 1, inplace =True)"
      ]
    },
    {
      "cell_type": "code",
      "execution_count": null,
      "metadata": {
        "colab": {
          "background_save": true,
          "base_uri": "https://localhost:8080/",
          "height": 354
        },
        "id": "ZgO5oKuSsUkf",
        "outputId": "364682f4-27b7-4431-a6b5-4b1f6796671e"
      },
      "outputs": [
        {
          "data": {
            "text/html": [
              "\n",
              "  <div id=\"df-d71ccc52-4d5e-49f5-ae6c-51b6c1085f2f\">\n",
              "    <div class=\"colab-df-container\">\n",
              "      <div>\n",
              "<style scoped>\n",
              "    .dataframe tbody tr th:only-of-type {\n",
              "        vertical-align: middle;\n",
              "    }\n",
              "\n",
              "    .dataframe tbody tr th {\n",
              "        vertical-align: top;\n",
              "    }\n",
              "\n",
              "    .dataframe thead th {\n",
              "        text-align: right;\n",
              "    }\n",
              "</style>\n",
              "<table border=\"1\" class=\"dataframe\">\n",
              "  <thead>\n",
              "    <tr style=\"text-align: right;\">\n",
              "      <th></th>\n",
              "      <th>qid1</th>\n",
              "      <th>qid2</th>\n",
              "      <th>question1</th>\n",
              "      <th>question2</th>\n",
              "      <th>is_duplicate</th>\n",
              "    </tr>\n",
              "  </thead>\n",
              "  <tbody>\n",
              "    <tr>\n",
              "      <th>133832</th>\n",
              "      <td>265031</td>\n",
              "      <td>265032</td>\n",
              "      <td>How good is the MSc Innovation, Entrepreneursh...</td>\n",
              "      <td>What does Jake Williams think about the Blacks...</td>\n",
              "      <td>0</td>\n",
              "    </tr>\n",
              "    <tr>\n",
              "      <th>133833</th>\n",
              "      <td>265033</td>\n",
              "      <td>265034</td>\n",
              "      <td>How can I be a better person and improve my qu...</td>\n",
              "      <td>I cannot improve my questions on Quora. This i...</td>\n",
              "      <td>1</td>\n",
              "    </tr>\n",
              "    <tr>\n",
              "      <th>133834</th>\n",
              "      <td>265035</td>\n",
              "      <td>265036</td>\n",
              "      <td>Why does it hurt to love someone?</td>\n",
              "      <td>Why does love hurt so good?</td>\n",
              "      <td>1</td>\n",
              "    </tr>\n",
              "    <tr>\n",
              "      <th>133835</th>\n",
              "      <td>265037</td>\n",
              "      <td>265038</td>\n",
              "      <td>Does time exist?</td>\n",
              "      <td>Broadly, does time exist, and if so, in what r...</td>\n",
              "      <td>0</td>\n",
              "    </tr>\n",
              "    <tr>\n",
              "      <th>133836</th>\n",
              "      <td>265039</td>\n",
              "      <td>265040</td>\n",
              "      <td>Are you personally attracted to people with th...</td>\n",
              "      <td>Which is the correct opt. She did not pass the...</td>\n",
              "      <td>0</td>\n",
              "    </tr>\n",
              "  </tbody>\n",
              "</table>\n",
              "</div>\n",
              "      <button class=\"colab-df-convert\" onclick=\"convertToInteractive('df-d71ccc52-4d5e-49f5-ae6c-51b6c1085f2f')\"\n",
              "              title=\"Convert this dataframe to an interactive table.\"\n",
              "              style=\"display:none;\">\n",
              "        \n",
              "  <svg xmlns=\"http://www.w3.org/2000/svg\" height=\"24px\"viewBox=\"0 0 24 24\"\n",
              "       width=\"24px\">\n",
              "    <path d=\"M0 0h24v24H0V0z\" fill=\"none\"/>\n",
              "    <path d=\"M18.56 5.44l.94 2.06.94-2.06 2.06-.94-2.06-.94-.94-2.06-.94 2.06-2.06.94zm-11 1L8.5 8.5l.94-2.06 2.06-.94-2.06-.94L8.5 2.5l-.94 2.06-2.06.94zm10 10l.94 2.06.94-2.06 2.06-.94-2.06-.94-.94-2.06-.94 2.06-2.06.94z\"/><path d=\"M17.41 7.96l-1.37-1.37c-.4-.4-.92-.59-1.43-.59-.52 0-1.04.2-1.43.59L10.3 9.45l-7.72 7.72c-.78.78-.78 2.05 0 2.83L4 21.41c.39.39.9.59 1.41.59.51 0 1.02-.2 1.41-.59l7.78-7.78 2.81-2.81c.8-.78.8-2.07 0-2.86zM5.41 20L4 18.59l7.72-7.72 1.47 1.35L5.41 20z\"/>\n",
              "  </svg>\n",
              "      </button>\n",
              "      \n",
              "  <style>\n",
              "    .colab-df-container {\n",
              "      display:flex;\n",
              "      flex-wrap:wrap;\n",
              "      gap: 12px;\n",
              "    }\n",
              "\n",
              "    .colab-df-convert {\n",
              "      background-color: #E8F0FE;\n",
              "      border: none;\n",
              "      border-radius: 50%;\n",
              "      cursor: pointer;\n",
              "      display: none;\n",
              "      fill: #1967D2;\n",
              "      height: 32px;\n",
              "      padding: 0 0 0 0;\n",
              "      width: 32px;\n",
              "    }\n",
              "\n",
              "    .colab-df-convert:hover {\n",
              "      background-color: #E2EBFA;\n",
              "      box-shadow: 0px 1px 2px rgba(60, 64, 67, 0.3), 0px 1px 3px 1px rgba(60, 64, 67, 0.15);\n",
              "      fill: #174EA6;\n",
              "    }\n",
              "\n",
              "    [theme=dark] .colab-df-convert {\n",
              "      background-color: #3B4455;\n",
              "      fill: #D2E3FC;\n",
              "    }\n",
              "\n",
              "    [theme=dark] .colab-df-convert:hover {\n",
              "      background-color: #434B5C;\n",
              "      box-shadow: 0px 1px 3px 1px rgba(0, 0, 0, 0.15);\n",
              "      filter: drop-shadow(0px 1px 2px rgba(0, 0, 0, 0.3));\n",
              "      fill: #FFFFFF;\n",
              "    }\n",
              "  </style>\n",
              "\n",
              "      <script>\n",
              "        const buttonEl =\n",
              "          document.querySelector('#df-d71ccc52-4d5e-49f5-ae6c-51b6c1085f2f button.colab-df-convert');\n",
              "        buttonEl.style.display =\n",
              "          google.colab.kernel.accessAllowed ? 'block' : 'none';\n",
              "\n",
              "        async function convertToInteractive(key) {\n",
              "          const element = document.querySelector('#df-d71ccc52-4d5e-49f5-ae6c-51b6c1085f2f');\n",
              "          const dataTable =\n",
              "            await google.colab.kernel.invokeFunction('convertToInteractive',\n",
              "                                                     [key], {});\n",
              "          if (!dataTable) return;\n",
              "\n",
              "          const docLinkHtml = 'Like what you see? Visit the ' +\n",
              "            '<a target=\"_blank\" href=https://colab.research.google.com/notebooks/data_table.ipynb>data table notebook</a>'\n",
              "            + ' to learn more about interactive tables.';\n",
              "          element.innerHTML = '';\n",
              "          dataTable['output_type'] = 'display_data';\n",
              "          await google.colab.output.renderOutput(dataTable, element);\n",
              "          const docLink = document.createElement('div');\n",
              "          docLink.innerHTML = docLinkHtml;\n",
              "          element.appendChild(docLink);\n",
              "        }\n",
              "      </script>\n",
              "    </div>\n",
              "  </div>\n",
              "  "
            ],
            "text/plain": [
              "          qid1    qid2                                          question1  \\\n",
              "133832  265031  265032  How good is the MSc Innovation, Entrepreneursh...   \n",
              "133833  265033  265034  How can I be a better person and improve my qu...   \n",
              "133834  265035  265036                  Why does it hurt to love someone?   \n",
              "133835  265037  265038                                   Does time exist?   \n",
              "133836  265039  265040  Are you personally attracted to people with th...   \n",
              "\n",
              "                                                question2  is_duplicate  \n",
              "133832  What does Jake Williams think about the Blacks...             0  \n",
              "133833  I cannot improve my questions on Quora. This i...             1  \n",
              "133834                        Why does love hurt so good?             1  \n",
              "133835  Broadly, does time exist, and if so, in what r...             0  \n",
              "133836  Which is the correct opt. She did not pass the...             0  "
            ]
          },
          "execution_count": 12,
          "metadata": {},
          "output_type": "execute_result"
        }
      ],
      "source": [
        "df['qid2'] = df['qid2'].astype(int)\n",
        "df['is_duplicate'] = df['is_duplicate'].astype(int)\n",
        "df.tail(5)\n"
      ]
    },
    {
      "cell_type": "code",
      "execution_count": null,
      "metadata": {
        "colab": {
          "background_save": true,
          "base_uri": "https://localhost:8080/",
          "height": 667
        },
        "id": "M9XKMQscYdC3",
        "outputId": "5d0c6ff2-22be-45a0-83f6-ed80bc73ff2e"
      },
      "outputs": [
        {
          "data": {
            "text/html": [
              "\n",
              "  <div id=\"df-b708443c-f344-46a4-aa74-ca162cd51443\">\n",
              "    <div class=\"colab-df-container\">\n",
              "      <div>\n",
              "<style scoped>\n",
              "    .dataframe tbody tr th:only-of-type {\n",
              "        vertical-align: middle;\n",
              "    }\n",
              "\n",
              "    .dataframe tbody tr th {\n",
              "        vertical-align: top;\n",
              "    }\n",
              "\n",
              "    .dataframe thead th {\n",
              "        text-align: right;\n",
              "    }\n",
              "</style>\n",
              "<table border=\"1\" class=\"dataframe\">\n",
              "  <thead>\n",
              "    <tr style=\"text-align: right;\">\n",
              "      <th></th>\n",
              "      <th>qid1</th>\n",
              "      <th>qid2</th>\n",
              "      <th>question1</th>\n",
              "      <th>question2</th>\n",
              "      <th>is_duplicate</th>\n",
              "    </tr>\n",
              "  </thead>\n",
              "  <tbody>\n",
              "    <tr>\n",
              "      <th>106570</th>\n",
              "      <td>211366</td>\n",
              "      <td>211367</td>\n",
              "      <td>What is important in life?</td>\n",
              "      <td>What is important in human life?</td>\n",
              "      <td>1</td>\n",
              "    </tr>\n",
              "    <tr>\n",
              "      <th>5391</th>\n",
              "      <td>10775</td>\n",
              "      <td>10776</td>\n",
              "      <td>How can you determine tartaric acid titration?</td>\n",
              "      <td>Will BYJU's learning app is good enough to hel...</td>\n",
              "      <td>0</td>\n",
              "    </tr>\n",
              "    <tr>\n",
              "      <th>7828</th>\n",
              "      <td>15636</td>\n",
              "      <td>15637</td>\n",
              "      <td>What is the best technique for SEO?</td>\n",
              "      <td>What are the top techniques for SEO?</td>\n",
              "      <td>1</td>\n",
              "    </tr>\n",
              "    <tr>\n",
              "      <th>10097</th>\n",
              "      <td>20162</td>\n",
              "      <td>20163</td>\n",
              "      <td>Where can I buy a fake iPhone 6s?</td>\n",
              "      <td>Where can I buy a fake iPhone?</td>\n",
              "      <td>0</td>\n",
              "    </tr>\n",
              "    <tr>\n",
              "      <th>73845</th>\n",
              "      <td>146742</td>\n",
              "      <td>146743</td>\n",
              "      <td>What's the chance of a US victory on Russian s...</td>\n",
              "      <td>What's the chance of a US victory on Russian s...</td>\n",
              "      <td>1</td>\n",
              "    </tr>\n",
              "    <tr>\n",
              "      <th>57397</th>\n",
              "      <td>114195</td>\n",
              "      <td>114196</td>\n",
              "      <td>How do I live without love?</td>\n",
              "      <td>Can we live without love?</td>\n",
              "      <td>1</td>\n",
              "    </tr>\n",
              "    <tr>\n",
              "      <th>20511</th>\n",
              "      <td>40922</td>\n",
              "      <td>40923</td>\n",
              "      <td>Autism: Will my 5-year-old non-verbal autistic...</td>\n",
              "      <td>How do you potty train a 4 year old, nonverbal...</td>\n",
              "      <td>0</td>\n",
              "    </tr>\n",
              "    <tr>\n",
              "      <th>96353</th>\n",
              "      <td>191260</td>\n",
              "      <td>191261</td>\n",
              "      <td>What are some good mystery TV shows?</td>\n",
              "      <td>What are the best mystery TV series?</td>\n",
              "      <td>1</td>\n",
              "    </tr>\n",
              "    <tr>\n",
              "      <th>92295</th>\n",
              "      <td>183244</td>\n",
              "      <td>183245</td>\n",
              "      <td>What evidence has been made public proving the...</td>\n",
              "      <td>What did the Russians actually hack regarding ...</td>\n",
              "      <td>0</td>\n",
              "    </tr>\n",
              "    <tr>\n",
              "      <th>66879</th>\n",
              "      <td>132969</td>\n",
              "      <td>132970</td>\n",
              "      <td>What is mechanism?</td>\n",
              "      <td>What is mechanize?</td>\n",
              "      <td>0</td>\n",
              "    </tr>\n",
              "  </tbody>\n",
              "</table>\n",
              "</div>\n",
              "      <button class=\"colab-df-convert\" onclick=\"convertToInteractive('df-b708443c-f344-46a4-aa74-ca162cd51443')\"\n",
              "              title=\"Convert this dataframe to an interactive table.\"\n",
              "              style=\"display:none;\">\n",
              "        \n",
              "  <svg xmlns=\"http://www.w3.org/2000/svg\" height=\"24px\"viewBox=\"0 0 24 24\"\n",
              "       width=\"24px\">\n",
              "    <path d=\"M0 0h24v24H0V0z\" fill=\"none\"/>\n",
              "    <path d=\"M18.56 5.44l.94 2.06.94-2.06 2.06-.94-2.06-.94-.94-2.06-.94 2.06-2.06.94zm-11 1L8.5 8.5l.94-2.06 2.06-.94-2.06-.94L8.5 2.5l-.94 2.06-2.06.94zm10 10l.94 2.06.94-2.06 2.06-.94-2.06-.94-.94-2.06-.94 2.06-2.06.94z\"/><path d=\"M17.41 7.96l-1.37-1.37c-.4-.4-.92-.59-1.43-.59-.52 0-1.04.2-1.43.59L10.3 9.45l-7.72 7.72c-.78.78-.78 2.05 0 2.83L4 21.41c.39.39.9.59 1.41.59.51 0 1.02-.2 1.41-.59l7.78-7.78 2.81-2.81c.8-.78.8-2.07 0-2.86zM5.41 20L4 18.59l7.72-7.72 1.47 1.35L5.41 20z\"/>\n",
              "  </svg>\n",
              "      </button>\n",
              "      \n",
              "  <style>\n",
              "    .colab-df-container {\n",
              "      display:flex;\n",
              "      flex-wrap:wrap;\n",
              "      gap: 12px;\n",
              "    }\n",
              "\n",
              "    .colab-df-convert {\n",
              "      background-color: #E8F0FE;\n",
              "      border: none;\n",
              "      border-radius: 50%;\n",
              "      cursor: pointer;\n",
              "      display: none;\n",
              "      fill: #1967D2;\n",
              "      height: 32px;\n",
              "      padding: 0 0 0 0;\n",
              "      width: 32px;\n",
              "    }\n",
              "\n",
              "    .colab-df-convert:hover {\n",
              "      background-color: #E2EBFA;\n",
              "      box-shadow: 0px 1px 2px rgba(60, 64, 67, 0.3), 0px 1px 3px 1px rgba(60, 64, 67, 0.15);\n",
              "      fill: #174EA6;\n",
              "    }\n",
              "\n",
              "    [theme=dark] .colab-df-convert {\n",
              "      background-color: #3B4455;\n",
              "      fill: #D2E3FC;\n",
              "    }\n",
              "\n",
              "    [theme=dark] .colab-df-convert:hover {\n",
              "      background-color: #434B5C;\n",
              "      box-shadow: 0px 1px 3px 1px rgba(0, 0, 0, 0.15);\n",
              "      filter: drop-shadow(0px 1px 2px rgba(0, 0, 0, 0.3));\n",
              "      fill: #FFFFFF;\n",
              "    }\n",
              "  </style>\n",
              "\n",
              "      <script>\n",
              "        const buttonEl =\n",
              "          document.querySelector('#df-b708443c-f344-46a4-aa74-ca162cd51443 button.colab-df-convert');\n",
              "        buttonEl.style.display =\n",
              "          google.colab.kernel.accessAllowed ? 'block' : 'none';\n",
              "\n",
              "        async function convertToInteractive(key) {\n",
              "          const element = document.querySelector('#df-b708443c-f344-46a4-aa74-ca162cd51443');\n",
              "          const dataTable =\n",
              "            await google.colab.kernel.invokeFunction('convertToInteractive',\n",
              "                                                     [key], {});\n",
              "          if (!dataTable) return;\n",
              "\n",
              "          const docLinkHtml = 'Like what you see? Visit the ' +\n",
              "            '<a target=\"_blank\" href=https://colab.research.google.com/notebooks/data_table.ipynb>data table notebook</a>'\n",
              "            + ' to learn more about interactive tables.';\n",
              "          element.innerHTML = '';\n",
              "          dataTable['output_type'] = 'display_data';\n",
              "          await google.colab.output.renderOutput(dataTable, element);\n",
              "          const docLink = document.createElement('div');\n",
              "          docLink.innerHTML = docLinkHtml;\n",
              "          element.appendChild(docLink);\n",
              "        }\n",
              "      </script>\n",
              "    </div>\n",
              "  </div>\n",
              "  "
            ],
            "text/plain": [
              "          qid1    qid2                                          question1  \\\n",
              "106570  211366  211367                         What is important in life?   \n",
              "5391     10775   10776     How can you determine tartaric acid titration?   \n",
              "7828     15636   15637                What is the best technique for SEO?   \n",
              "10097    20162   20163                  Where can I buy a fake iPhone 6s?   \n",
              "73845   146742  146743  What's the chance of a US victory on Russian s...   \n",
              "57397   114195  114196                        How do I live without love?   \n",
              "20511    40922   40923  Autism: Will my 5-year-old non-verbal autistic...   \n",
              "96353   191260  191261               What are some good mystery TV shows?   \n",
              "92295   183244  183245  What evidence has been made public proving the...   \n",
              "66879   132969  132970                                 What is mechanism?   \n",
              "\n",
              "                                                question2  is_duplicate  \n",
              "106570                   What is important in human life?             1  \n",
              "5391    Will BYJU's learning app is good enough to hel...             0  \n",
              "7828                 What are the top techniques for SEO?             1  \n",
              "10097                      Where can I buy a fake iPhone?             0  \n",
              "73845   What's the chance of a US victory on Russian s...             1  \n",
              "57397                           Can we live without love?             1  \n",
              "20511   How do you potty train a 4 year old, nonverbal...             0  \n",
              "96353                What are the best mystery TV series?             1  \n",
              "92295   What did the Russians actually hack regarding ...             0  \n",
              "66879                                  What is mechanize?             0  "
            ]
          },
          "execution_count": 13,
          "metadata": {},
          "output_type": "execute_result"
        }
      ],
      "source": [
        "df.sample(10)"
      ]
    },
    {
      "cell_type": "code",
      "execution_count": null,
      "metadata": {
        "colab": {
          "background_save": true,
          "base_uri": "https://localhost:8080/"
        },
        "id": "MY4qxesksd37",
        "outputId": "54701d46-1912-4906-e489-5ff7388d3d13"
      },
      "outputs": [
        {
          "data": {
            "text/plain": [
              "0    83999\n",
              "1    49837\n",
              "Name: is_duplicate, dtype: int64"
            ]
          },
          "execution_count": 14,
          "metadata": {},
          "output_type": "execute_result"
        }
      ],
      "source": [
        "df['is_duplicate'].value_counts()"
      ]
    },
    {
      "cell_type": "code",
      "execution_count": null,
      "metadata": {
        "colab": {
          "background_save": true,
          "base_uri": "https://localhost:8080/"
        },
        "id": "8Msd275kshWY",
        "outputId": "21217424-2812-4a92-f942-976a53f078d1"
      },
      "outputs": [
        {
          "data": {
            "text/plain": [
              "0"
            ]
          },
          "execution_count": 15,
          "metadata": {},
          "output_type": "execute_result"
        }
      ],
      "source": [
        "df.duplicated().sum() # to check weather some row is completely duplicate or not "
      ]
    },
    {
      "cell_type": "code",
      "execution_count": null,
      "metadata": {
        "colab": {
          "background_save": true,
          "base_uri": "https://localhost:8080/"
        },
        "id": "1fJvi7lps6dz",
        "outputId": "242448b8-6801-4777-e2fa-e5986181f86a"
      },
      "outputs": [
        {
          "name": "stdout",
          "output_type": "stream",
          "text": [
            "0    62.762635\n",
            "1    37.237365\n",
            "Name: is_duplicate, dtype: float64\n"
          ]
        }
      ],
      "source": [
        "print((df['is_duplicate'].value_counts()/df['is_duplicate'].count())*100) # calculating percentage"
      ]
    },
    {
      "cell_type": "code",
      "execution_count": null,
      "metadata": {
        "colab": {
          "background_save": true
        },
        "id": "Www5znyZtcPy"
      },
      "outputs": [],
      "source": [
        "# 62% values are not duplicate, 38 are duplicate"
      ]
    },
    {
      "cell_type": "code",
      "execution_count": null,
      "metadata": {
        "colab": {
          "background_save": true,
          "base_uri": "https://localhost:8080/"
        },
        "id": "8qJbXTbat1Gc",
        "outputId": "9bbde1aa-b326-4515-f9f3-853daf9a0165"
      },
      "outputs": [
        {
          "name": "stdout",
          "output_type": "stream",
          "text": [
            "(265038,)\n",
            "267672\n"
          ]
        }
      ],
      "source": [
        "qid = pd.Series(df['qid1'].tolist() + df['qid2'].tolist())\n",
        "unique_ques = np.unique(qid)\n",
        "unique_ques_number = unique_ques.shape\n",
        "print(unique_ques_number)\n",
        "print(len(qid))"
      ]
    },
    {
      "cell_type": "code",
      "execution_count": null,
      "metadata": {
        "colab": {
          "background_save": true,
          "base_uri": "https://localhost:8080/"
        },
        "id": "IH1zTqOwvxPc",
        "outputId": "94d47814-0157-4112-d293-584ff57e6be6"
      },
      "outputs": [
        {
          "data": {
            "text/plain": [
              "2634"
            ]
          },
          "execution_count": 19,
          "metadata": {},
          "output_type": "execute_result"
        }
      ],
      "source": [
        "repeated = len(qid) - unique_ques_number[0]\n",
        "repeated"
      ]
    },
    {
      "cell_type": "code",
      "execution_count": null,
      "metadata": {
        "colab": {
          "background_save": true,
          "base_uri": "https://localhost:8080/",
          "height": 430
        },
        "id": "2xm1Ve9jwjlY",
        "outputId": "ca625f45-7aed-42e8-fb34-8632ec063d7c"
      },
      "outputs": [
        {
          "data": {
            "image/png": "[encoded data removed]",
            "text/plain": [
              "<Figure size 640x480 with 1 Axes>"
            ]
          },
          "metadata": {},
          "output_type": "display_data"
        }
      ],
      "source": [
        "plt.hist(qid.value_counts().values, bins =160)\n",
        "plt.yscale('log')\n",
        "plt.show()"
      ]
    },
    {
      "cell_type": "code",
      "execution_count": null,
      "metadata": {
        "colab": {
          "background_save": true,
          "base_uri": "https://localhost:8080/",
          "height": 624
        },
        "id": "5ys72h9E1gKV",
        "outputId": "ab6c09ef-500e-4162-c139-d0f7c4a4ba53"
      },
      "outputs": [
        {
          "data": {
            "text/html": [
              "\n",
              "  <div id=\"df-75b68d13-96a6-46e9-a7de-49f990f59435\">\n",
              "    <div class=\"colab-df-container\">\n",
              "      <div>\n",
              "<style scoped>\n",
              "    .dataframe tbody tr th:only-of-type {\n",
              "        vertical-align: middle;\n",
              "    }\n",
              "\n",
              "    .dataframe tbody tr th {\n",
              "        vertical-align: top;\n",
              "    }\n",
              "\n",
              "    .dataframe thead th {\n",
              "        text-align: right;\n",
              "    }\n",
              "</style>\n",
              "<table border=\"1\" class=\"dataframe\">\n",
              "  <thead>\n",
              "    <tr style=\"text-align: right;\">\n",
              "      <th></th>\n",
              "      <th>question1</th>\n",
              "      <th>question2</th>\n",
              "      <th>is_duplicate</th>\n",
              "    </tr>\n",
              "  </thead>\n",
              "  <tbody>\n",
              "    <tr>\n",
              "      <th>0</th>\n",
              "      <td>What is the step by step guide to invest in sh...</td>\n",
              "      <td>What is the step by step guide to invest in sh...</td>\n",
              "      <td>0</td>\n",
              "    </tr>\n",
              "    <tr>\n",
              "      <th>1</th>\n",
              "      <td>What is the story of Kohinoor (Koh-i-Noor) Dia...</td>\n",
              "      <td>What would happen if the Indian government sto...</td>\n",
              "      <td>0</td>\n",
              "    </tr>\n",
              "    <tr>\n",
              "      <th>2</th>\n",
              "      <td>How can I increase the speed of my internet co...</td>\n",
              "      <td>How can Internet speed be increased by hacking...</td>\n",
              "      <td>0</td>\n",
              "    </tr>\n",
              "    <tr>\n",
              "      <th>3</th>\n",
              "      <td>Why am I mentally very lonely? How can I solve...</td>\n",
              "      <td>Find the remainder when [math]23^{24}[/math] i...</td>\n",
              "      <td>0</td>\n",
              "    </tr>\n",
              "    <tr>\n",
              "      <th>4</th>\n",
              "      <td>Which one dissolve in water quikly sugar, salt...</td>\n",
              "      <td>Which fish would survive in salt water?</td>\n",
              "      <td>0</td>\n",
              "    </tr>\n",
              "    <tr>\n",
              "      <th>...</th>\n",
              "      <td>...</td>\n",
              "      <td>...</td>\n",
              "      <td>...</td>\n",
              "    </tr>\n",
              "    <tr>\n",
              "      <th>133832</th>\n",
              "      <td>How good is the MSc Innovation, Entrepreneursh...</td>\n",
              "      <td>What does Jake Williams think about the Blacks...</td>\n",
              "      <td>0</td>\n",
              "    </tr>\n",
              "    <tr>\n",
              "      <th>133833</th>\n",
              "      <td>How can I be a better person and improve my qu...</td>\n",
              "      <td>I cannot improve my questions on Quora. This i...</td>\n",
              "      <td>1</td>\n",
              "    </tr>\n",
              "    <tr>\n",
              "      <th>133834</th>\n",
              "      <td>Why does it hurt to love someone?</td>\n",
              "      <td>Why does love hurt so good?</td>\n",
              "      <td>1</td>\n",
              "    </tr>\n",
              "    <tr>\n",
              "      <th>133835</th>\n",
              "      <td>Does time exist?</td>\n",
              "      <td>Broadly, does time exist, and if so, in what r...</td>\n",
              "      <td>0</td>\n",
              "    </tr>\n",
              "    <tr>\n",
              "      <th>133836</th>\n",
              "      <td>Are you personally attracted to people with th...</td>\n",
              "      <td>Which is the correct opt. She did not pass the...</td>\n",
              "      <td>0</td>\n",
              "    </tr>\n",
              "  </tbody>\n",
              "</table>\n",
              "<p>133836 rows × 3 columns</p>\n",
              "</div>\n",
              "      <button class=\"colab-df-convert\" onclick=\"convertToInteractive('df-75b68d13-96a6-46e9-a7de-49f990f59435')\"\n",
              "              title=\"Convert this dataframe to an interactive table.\"\n",
              "              style=\"display:none;\">\n",
              "        \n",
              "  <svg xmlns=\"http://www.w3.org/2000/svg\" height=\"24px\"viewBox=\"0 0 24 24\"\n",
              "       width=\"24px\">\n",
              "    <path d=\"M0 0h24v24H0V0z\" fill=\"none\"/>\n",
              "    <path d=\"M18.56 5.44l.94 2.06.94-2.06 2.06-.94-2.06-.94-.94-2.06-.94 2.06-2.06.94zm-11 1L8.5 8.5l.94-2.06 2.06-.94-2.06-.94L8.5 2.5l-.94 2.06-2.06.94zm10 10l.94 2.06.94-2.06 2.06-.94-2.06-.94-.94-2.06-.94 2.06-2.06.94z\"/><path d=\"M17.41 7.96l-1.37-1.37c-.4-.4-.92-.59-1.43-.59-.52 0-1.04.2-1.43.59L10.3 9.45l-7.72 7.72c-.78.78-.78 2.05 0 2.83L4 21.41c.39.39.9.59 1.41.59.51 0 1.02-.2 1.41-.59l7.78-7.78 2.81-2.81c.8-.78.8-2.07 0-2.86zM5.41 20L4 18.59l7.72-7.72 1.47 1.35L5.41 20z\"/>\n",
              "  </svg>\n",
              "      </button>\n",
              "      \n",
              "  <style>\n",
              "    .colab-df-container {\n",
              "      display:flex;\n",
              "      flex-wrap:wrap;\n",
              "      gap: 12px;\n",
              "    }\n",
              "\n",
              "    .colab-df-convert {\n",
              "      background-color: #E8F0FE;\n",
              "      border: none;\n",
              "      border-radius: 50%;\n",
              "      cursor: pointer;\n",
              "      display: none;\n",
              "      fill: #1967D2;\n",
              "      height: 32px;\n",
              "      padding: 0 0 0 0;\n",
              "      width: 32px;\n",
              "    }\n",
              "\n",
              "    .colab-df-convert:hover {\n",
              "      background-color: #E2EBFA;\n",
              "      box-shadow: 0px 1px 2px rgba(60, 64, 67, 0.3), 0px 1px 3px 1px rgba(60, 64, 67, 0.15);\n",
              "      fill: #174EA6;\n",
              "    }\n",
              "\n",
              "    [theme=dark] .colab-df-convert {\n",
              "      background-color: #3B4455;\n",
              "      fill: #D2E3FC;\n",
              "    }\n",
              "\n",
              "    [theme=dark] .colab-df-convert:hover {\n",
              "      background-color: #434B5C;\n",
              "      box-shadow: 0px 1px 3px 1px rgba(0, 0, 0, 0.15);\n",
              "      filter: drop-shadow(0px 1px 2px rgba(0, 0, 0, 0.3));\n",
              "      fill: #FFFFFF;\n",
              "    }\n",
              "  </style>\n",
              "\n",
              "      <script>\n",
              "        const buttonEl =\n",
              "          document.querySelector('#df-75b68d13-96a6-46e9-a7de-49f990f59435 button.colab-df-convert');\n",
              "        buttonEl.style.display =\n",
              "          google.colab.kernel.accessAllowed ? 'block' : 'none';\n",
              "\n",
              "        async function convertToInteractive(key) {\n",
              "          const element = document.querySelector('#df-75b68d13-96a6-46e9-a7de-49f990f59435');\n",
              "          const dataTable =\n",
              "            await google.colab.kernel.invokeFunction('convertToInteractive',\n",
              "                                                     [key], {});\n",
              "          if (!dataTable) return;\n",
              "\n",
              "          const docLinkHtml = 'Like what you see? Visit the ' +\n",
              "            '<a target=\"_blank\" href=https://colab.research.google.com/notebooks/data_table.ipynb>data table notebook</a>'\n",
              "            + ' to learn more about interactive tables.';\n",
              "          element.innerHTML = '';\n",
              "          dataTable['output_type'] = 'display_data';\n",
              "          await google.colab.output.renderOutput(dataTable, element);\n",
              "          const docLink = document.createElement('div');\n",
              "          docLink.innerHTML = docLinkHtml;\n",
              "          element.appendChild(docLink);\n",
              "        }\n",
              "      </script>\n",
              "    </div>\n",
              "  </div>\n",
              "  "
            ],
            "text/plain": [
              "                                                question1  \\\n",
              "0       What is the step by step guide to invest in sh...   \n",
              "1       What is the story of Kohinoor (Koh-i-Noor) Dia...   \n",
              "2       How can I increase the speed of my internet co...   \n",
              "3       Why am I mentally very lonely? How can I solve...   \n",
              "4       Which one dissolve in water quikly sugar, salt...   \n",
              "...                                                   ...   \n",
              "133832  How good is the MSc Innovation, Entrepreneursh...   \n",
              "133833  How can I be a better person and improve my qu...   \n",
              "133834                  Why does it hurt to love someone?   \n",
              "133835                                   Does time exist?   \n",
              "133836  Are you personally attracted to people with th...   \n",
              "\n",
              "                                                question2  is_duplicate  \n",
              "0       What is the step by step guide to invest in sh...             0  \n",
              "1       What would happen if the Indian government sto...             0  \n",
              "2       How can Internet speed be increased by hacking...             0  \n",
              "3       Find the remainder when [math]23^{24}[/math] i...             0  \n",
              "4                 Which fish would survive in salt water?             0  \n",
              "...                                                   ...           ...  \n",
              "133832  What does Jake Williams think about the Blacks...             0  \n",
              "133833  I cannot improve my questions on Quora. This i...             1  \n",
              "133834                        Why does love hurt so good?             1  \n",
              "133835  Broadly, does time exist, and if so, in what r...             0  \n",
              "133836  Which is the correct opt. She did not pass the...             0  \n",
              "\n",
              "[133836 rows x 3 columns]"
            ]
          },
          "execution_count": 21,
          "metadata": {},
          "output_type": "execute_result"
        }
      ],
      "source": [
        "df = df[['question1','question2','is_duplicate']]\n",
        "df"
      ]
    },
    {
      "cell_type": "code",
      "execution_count": null,
      "metadata": {
        "colab": {
          "background_save": true
        },
        "id": "QM3bjnKPag4K"
      },
      "outputs": [],
      "source": [
        "new_df = df.sample(30000, random_state=2)"
      ]
    },
    {
      "cell_type": "code",
      "execution_count": null,
      "metadata": {
        "colab": {
          "background_save": true,
          "base_uri": "https://localhost:8080/",
          "height": 624
        },
        "id": "X296Zizh1gdq",
        "outputId": "c07819f6-5036-4570-8699-ad1c97422609"
      },
      "outputs": [
        {
          "data": {
            "text/html": [
              "\n",
              "  <div id=\"df-727a21dc-370a-40dc-97d9-9b7b29930542\">\n",
              "    <div class=\"colab-df-container\">\n",
              "      <div>\n",
              "<style scoped>\n",
              "    .dataframe tbody tr th:only-of-type {\n",
              "        vertical-align: middle;\n",
              "    }\n",
              "\n",
              "    .dataframe tbody tr th {\n",
              "        vertical-align: top;\n",
              "    }\n",
              "\n",
              "    .dataframe thead th {\n",
              "        text-align: right;\n",
              "    }\n",
              "</style>\n",
              "<table border=\"1\" class=\"dataframe\">\n",
              "  <thead>\n",
              "    <tr style=\"text-align: right;\">\n",
              "      <th></th>\n",
              "      <th>question1</th>\n",
              "      <th>question2</th>\n",
              "    </tr>\n",
              "  </thead>\n",
              "  <tbody>\n",
              "    <tr>\n",
              "      <th>7041</th>\n",
              "      <td>How do you find your health insurance policy n...</td>\n",
              "      <td>I am 27 and I want to take a health insurance ...</td>\n",
              "    </tr>\n",
              "    <tr>\n",
              "      <th>59839</th>\n",
              "      <td>Is Clinton likely to win the election?</td>\n",
              "      <td>How certain are you that Hillary Clinton will ...</td>\n",
              "    </tr>\n",
              "    <tr>\n",
              "      <th>11368</th>\n",
              "      <td>How I cut out this pie lattice that looks like...</td>\n",
              "      <td>What was the policy of the secular Arab leader...</td>\n",
              "    </tr>\n",
              "    <tr>\n",
              "      <th>61497</th>\n",
              "      <td>What is the valid reason for India only gettin...</td>\n",
              "      <td>Why India fails to get medals in Olympics?</td>\n",
              "    </tr>\n",
              "    <tr>\n",
              "      <th>44350</th>\n",
              "      <td>What should I do to boost my self-esteem and s...</td>\n",
              "      <td>How can I boost my self-esteem?</td>\n",
              "    </tr>\n",
              "    <tr>\n",
              "      <th>...</th>\n",
              "      <td>...</td>\n",
              "      <td>...</td>\n",
              "    </tr>\n",
              "    <tr>\n",
              "      <th>70776</th>\n",
              "      <td>If you could go back in time, and stop yoursel...</td>\n",
              "      <td>If you could go back in time and do one thing,...</td>\n",
              "    </tr>\n",
              "    <tr>\n",
              "      <th>117437</th>\n",
              "      <td>What are some amazing facts about the Indian e...</td>\n",
              "      <td>Can someone tell the most interesting facts ab...</td>\n",
              "    </tr>\n",
              "    <tr>\n",
              "      <th>48403</th>\n",
              "      <td>Which are the smart cities of the India?</td>\n",
              "      <td>Which are the cities of India to have the smar...</td>\n",
              "    </tr>\n",
              "    <tr>\n",
              "      <th>34574</th>\n",
              "      <td>How do students at IITs use NPTEL? Does anybod...</td>\n",
              "      <td>Do people at IIT study from NPTEL slides?</td>\n",
              "    </tr>\n",
              "    <tr>\n",
              "      <th>116502</th>\n",
              "      <td>Which actresses have an outie belly button?</td>\n",
              "      <td>Which women has innie belly button?</td>\n",
              "    </tr>\n",
              "  </tbody>\n",
              "</table>\n",
              "<p>30000 rows × 2 columns</p>\n",
              "</div>\n",
              "      <button class=\"colab-df-convert\" onclick=\"convertToInteractive('df-727a21dc-370a-40dc-97d9-9b7b29930542')\"\n",
              "              title=\"Convert this dataframe to an interactive table.\"\n",
              "              style=\"display:none;\">\n",
              "        \n",
              "  <svg xmlns=\"http://www.w3.org/2000/svg\" height=\"24px\"viewBox=\"0 0 24 24\"\n",
              "       width=\"24px\">\n",
              "    <path d=\"M0 0h24v24H0V0z\" fill=\"none\"/>\n",
              "    <path d=\"M18.56 5.44l.94 2.06.94-2.06 2.06-.94-2.06-.94-.94-2.06-.94 2.06-2.06.94zm-11 1L8.5 8.5l.94-2.06 2.06-.94-2.06-.94L8.5 2.5l-.94 2.06-2.06.94zm10 10l.94 2.06.94-2.06 2.06-.94-2.06-.94-.94-2.06-.94 2.06-2.06.94z\"/><path d=\"M17.41 7.96l-1.37-1.37c-.4-.4-.92-.59-1.43-.59-.52 0-1.04.2-1.43.59L10.3 9.45l-7.72 7.72c-.78.78-.78 2.05 0 2.83L4 21.41c.39.39.9.59 1.41.59.51 0 1.02-.2 1.41-.59l7.78-7.78 2.81-2.81c.8-.78.8-2.07 0-2.86zM5.41 20L4 18.59l7.72-7.72 1.47 1.35L5.41 20z\"/>\n",
              "  </svg>\n",
              "      </button>\n",
              "      \n",
              "  <style>\n",
              "    .colab-df-container {\n",
              "      display:flex;\n",
              "      flex-wrap:wrap;\n",
              "      gap: 12px;\n",
              "    }\n",
              "\n",
              "    .colab-df-convert {\n",
              "      background-color: #E8F0FE;\n",
              "      border: none;\n",
              "      border-radius: 50%;\n",
              "      cursor: pointer;\n",
              "      display: none;\n",
              "      fill: #1967D2;\n",
              "      height: 32px;\n",
              "      padding: 0 0 0 0;\n",
              "      width: 32px;\n",
              "    }\n",
              "\n",
              "    .colab-df-convert:hover {\n",
              "      background-color: #E2EBFA;\n",
              "      box-shadow: 0px 1px 2px rgba(60, 64, 67, 0.3), 0px 1px 3px 1px rgba(60, 64, 67, 0.15);\n",
              "      fill: #174EA6;\n",
              "    }\n",
              "\n",
              "    [theme=dark] .colab-df-convert {\n",
              "      background-color: #3B4455;\n",
              "      fill: #D2E3FC;\n",
              "    }\n",
              "\n",
              "    [theme=dark] .colab-df-convert:hover {\n",
              "      background-color: #434B5C;\n",
              "      box-shadow: 0px 1px 3px 1px rgba(0, 0, 0, 0.15);\n",
              "      filter: drop-shadow(0px 1px 2px rgba(0, 0, 0, 0.3));\n",
              "      fill: #FFFFFF;\n",
              "    }\n",
              "  </style>\n",
              "\n",
              "      <script>\n",
              "        const buttonEl =\n",
              "          document.querySelector('#df-727a21dc-370a-40dc-97d9-9b7b29930542 button.colab-df-convert');\n",
              "        buttonEl.style.display =\n",
              "          google.colab.kernel.accessAllowed ? 'block' : 'none';\n",
              "\n",
              "        async function convertToInteractive(key) {\n",
              "          const element = document.querySelector('#df-727a21dc-370a-40dc-97d9-9b7b29930542');\n",
              "          const dataTable =\n",
              "            await google.colab.kernel.invokeFunction('convertToInteractive',\n",
              "                                                     [key], {});\n",
              "          if (!dataTable) return;\n",
              "\n",
              "          const docLinkHtml = 'Like what you see? Visit the ' +\n",
              "            '<a target=\"_blank\" href=https://colab.research.google.com/notebooks/data_table.ipynb>data table notebook</a>'\n",
              "            + ' to learn more about interactive tables.';\n",
              "          element.innerHTML = '';\n",
              "          dataTable['output_type'] = 'display_data';\n",
              "          await google.colab.output.renderOutput(dataTable, element);\n",
              "          const docLink = document.createElement('div');\n",
              "          docLink.innerHTML = docLinkHtml;\n",
              "          element.appendChild(docLink);\n",
              "        }\n",
              "      </script>\n",
              "    </div>\n",
              "  </div>\n",
              "  "
            ],
            "text/plain": [
              "                                                question1  \\\n",
              "7041    How do you find your health insurance policy n...   \n",
              "59839              Is Clinton likely to win the election?   \n",
              "11368   How I cut out this pie lattice that looks like...   \n",
              "61497   What is the valid reason for India only gettin...   \n",
              "44350   What should I do to boost my self-esteem and s...   \n",
              "...                                                   ...   \n",
              "70776   If you could go back in time, and stop yoursel...   \n",
              "117437  What are some amazing facts about the Indian e...   \n",
              "48403            Which are the smart cities of the India?   \n",
              "34574   How do students at IITs use NPTEL? Does anybod...   \n",
              "116502        Which actresses have an outie belly button?   \n",
              "\n",
              "                                                question2  \n",
              "7041    I am 27 and I want to take a health insurance ...  \n",
              "59839   How certain are you that Hillary Clinton will ...  \n",
              "11368   What was the policy of the secular Arab leader...  \n",
              "61497          Why India fails to get medals in Olympics?  \n",
              "44350                     How can I boost my self-esteem?  \n",
              "...                                                   ...  \n",
              "70776   If you could go back in time and do one thing,...  \n",
              "117437  Can someone tell the most interesting facts ab...  \n",
              "48403   Which are the cities of India to have the smar...  \n",
              "34574           Do people at IIT study from NPTEL slides?  \n",
              "116502                Which women has innie belly button?  \n",
              "\n",
              "[30000 rows x 2 columns]"
            ]
          },
          "execution_count": 23,
          "metadata": {},
          "output_type": "execute_result"
        }
      ],
      "source": [
        "x = new_df[['question1','question2']]\n",
        "x"
      ]
    },
    {
      "cell_type": "code",
      "execution_count": null,
      "metadata": {
        "colab": {
          "background_save": true,
          "base_uri": "https://localhost:8080/"
        },
        "id": "-iqbyq5zJ66A",
        "outputId": "629406fc-86e4-44ba-b113-d7a6f6fc7cae"
      },
      "outputs": [
        {
          "data": {
            "text/plain": [
              "pandas.core.series.Series"
            ]
          },
          "execution_count": 24,
          "metadata": {},
          "output_type": "execute_result"
        }
      ],
      "source": [
        "y = new_df['is_duplicate']\n",
        "type(y)\n"
      ]
    },
    {
      "cell_type": "code",
      "execution_count": null,
      "metadata": {
        "colab": {
          "background_save": true
        },
        "id": "tCaylR-5NL7q"
      },
      "outputs": [],
      "source": [
        "def remove_punctuation(text):\n",
        "    cleaned_text = re.sub(r'[^\\w\\s]', '', text)\n",
        "    return cleaned_text"
      ]
    },
    {
      "cell_type": "code",
      "execution_count": null,
      "metadata": {
        "colab": {
          "background_save": true
        },
        "id": "RHX0D9-HNfOs"
      },
      "outputs": [],
      "source": [
        "new_df['question1'] = new_df['question1'].apply(remove_punctuation)\n",
        "new_df['question2'] = new_df['question2'].apply(remove_punctuation)\n",
        "\n",
        "\n"
      ]
    },
    {
      "cell_type": "code",
      "execution_count": null,
      "metadata": {
        "colab": {
          "background_save": true
        },
        "id": "Ab8VhH_pRZbT"
      },
      "outputs": [],
      "source": [
        "sw = stopwords.words('english')\n",
        "def remove_stopwords(text):\n",
        "   \n",
        "    words = word_tokenize(text)\n",
        "    wo_stopwords = [word for word in words if word.lower not in sw]\n",
        "    \n",
        "    return \" \".join(wo_stopwords)"
      ]
    },
    {
      "cell_type": "code",
      "execution_count": null,
      "metadata": {
        "colab": {
          "background_save": true
        },
        "id": "lG4NQpj8R3Id"
      },
      "outputs": [],
      "source": [
        "# new_df['question1'] = new_df['question1'].apply(remove_stopwords)\n",
        "# new_df['question2'] = new_df['question2'].apply(remove_stopwords)\n",
        "\n"
      ]
    },
    {
      "cell_type": "code",
      "execution_count": null,
      "metadata": {
        "colab": {
          "background_save": true
        },
        "id": "2f3pWJNUCucR"
      },
      "outputs": [],
      "source": [
        "def num_words(text):\n",
        "  words = word_tokenize(text)\n",
        "  num = len(words)\n",
        "  return num\n",
        "new_df['numberofwords1'] = new_df['question1'].apply(num_words)\n",
        "new_df['numberofwords2'] = new_df['question2'].apply(num_words)\n"
      ]
    },
    {
      "cell_type": "code",
      "execution_count": null,
      "metadata": {
        "colab": {
          "base_uri": "https://localhost:8080/"
        },
        "id": "Nj8JcD_yJ_Ob",
        "outputId": "3abedc6a-598e-49b3-bb1d-076899c94905"
      },
      "outputs": [
        {
          "data": {
            "text/plain": [
              "array([[0., 0., 0., ..., 0., 0., 0.],\n",
              "       [0., 0., 0., ..., 0., 0., 0.],\n",
              "       [0., 0., 0., ..., 0., 0., 0.],\n",
              "       ...,\n",
              "       [0., 0., 0., ..., 0., 0., 0.],\n",
              "       [0., 0., 0., ..., 0., 0., 0.],\n",
              "       [0., 0., 0., ..., 0., 0., 0.]])"
            ]
          },
          "execution_count": 29,
          "metadata": {},
          "output_type": "execute_result"
        }
      ],
      "source": [
        "from sklearn.feature_extraction.text import CountVectorizer, TfidfVectorizer\n",
        "\n",
        "\n",
        "# Create an instance of CountVectorizer\n",
        "vectorizer = TfidfVectorizer()\n",
        "questions = list(new_df['question1']) + list(new_df['question2'])\n",
        "\n",
        "q1_arr, q2_arr = np.vsplit(vectorizer.fit_transform(questions).toarray(),2)\n",
        "q1_arr\n",
        "\n"
      ]
    },
    {
      "cell_type": "code",
      "execution_count": null,
      "metadata": {
        "id": "y820q7hdfsIQ"
      },
      "outputs": [],
      "source": [
        "temp_df1 = pd.DataFrame(q1_arr, index=new_df.index)\n",
        "temp_df2 = pd.DataFrame(q2_arr, index=new_df.index) "
      ]
    },
    {
      "cell_type": "code",
      "execution_count": null,
      "metadata": {
        "id": "e5YOiGpXgEn_"
      },
      "outputs": [],
      "source": [
        "temp_df = pd.concat([temp_df1,temp_df2], axis = 1)"
      ]
    },
    {
      "cell_type": "code",
      "execution_count": null,
      "metadata": {
        "id": "XVvLxBAV8eAF"
      },
      "outputs": [],
      "source": [
        "temp_df"
      ]
    },
    {
      "cell_type": "code",
      "execution_count": null,
      "metadata": {
        "id": "olCnUZB49K-F"
      },
      "outputs": [],
      "source": [
        "temp_df['is_duplicate'] = new_df['is_duplicate']\n",
        "temp_df['num_words'] = new_df['numberofwords1'] + new_df['numberofwords2']\n",
        "\n",
        "\n",
        "temp_df"
      ]
    },
    {
      "cell_type": "code",
      "execution_count": null,
      "metadata": {
        "id": "80OASbb8G0fC"
      },
      "outputs": [],
      "source": [
        "def num_char(text):\n",
        "  characters = list(text)\n",
        "  num_char = len(characters)\n",
        "  return num_char\n"
      ]
    },
    {
      "cell_type": "code",
      "execution_count": null,
      "metadata": {
        "id": "7xvcXr07IG0A"
      },
      "outputs": [],
      "source": [
        "new_df['numberofchar1'] = new_df['question1'].apply(num_char)\n",
        "new_df['numberofchar2'] = new_df['question2'].apply(num_char)"
      ]
    },
    {
      "cell_type": "code",
      "execution_count": null,
      "metadata": {
        "id": "Sworgg7rIHDL"
      },
      "outputs": [],
      "source": [
        "temp_df['num_char1'] = new_df['numberofchar1']\n",
        "temp_df['num_char2'] = new_df['numberofchar2']"
      ]
    },
    {
      "cell_type": "code",
      "execution_count": null,
      "metadata": {
        "id": "ScQvHyclIHFj"
      },
      "outputs": [],
      "source": [
        "def count_common_words(row, col1, col2):\n",
        "    words1 = set(re.findall(r'\\w+', row[col1].lower()))\n",
        "    words2 = set(re.findall(r'\\w+', row[col2].lower()))\n",
        "    common_words = words1.intersection(words2)\n",
        "    return len(common_words)\n",
        "\n"
      ]
    },
    {
      "cell_type": "code",
      "execution_count": null,
      "metadata": {
        "id": "2rjsJaq7IHIG"
      },
      "outputs": [],
      "source": [
        "temp_df['CommonWordsCount'] = new_df.apply(count_common_words, args=('question1', 'question2'), axis=1)\n"
      ]
    },
    {
      "cell_type": "code",
      "execution_count": null,
      "metadata": {
        "id": "Ky13G6iyIHKO"
      },
      "outputs": [],
      "source": [
        "temp_df['word_share'] = temp_df['CommonWordsCount']/temp_df['num_words']"
      ]
    },
    {
      "cell_type": "code",
      "execution_count": null,
      "metadata": {
        "id": "dLqYuhXaIHMZ"
      },
      "outputs": [],
      "source": [
        "temp_df['wordsin1'] = new_df['numberofwords1']\n",
        "temp_df['wordsin2'] = new_df['numberofwords2']"
      ]
    },
    {
      "cell_type": "code",
      "execution_count": null,
      "metadata": {
        "id": "kin_8k8yIHOr"
      },
      "outputs": [],
      "source": [
        "temp_df['unique_words'] = temp_df['num_words'] - temp_df['CommonWordsCount']"
      ]
    },
    {
      "cell_type": "code",
      "execution_count": null,
      "metadata": {
        "id": "ql0BvypYIHQ0"
      },
      "outputs": [],
      "source": [
        "temp_df['uniqueness_per_word'] = temp_df['unique_words']/temp_df['num_words']"
      ]
    },
    {
      "cell_type": "code",
      "execution_count": null,
      "metadata": {
        "id": "X0UP2z9mIHUa"
      },
      "outputs": [],
      "source": [
        "temp_df.columns = temp_df.columns.astype(str)\n"
      ]
    },
    {
      "cell_type": "code",
      "execution_count": null,
      "metadata": {
        "id": "D9UgZmnW16qx"
      },
      "outputs": [],
      "source": [
        "temp_df"
      ]
    },
    {
      "cell_type": "code",
      "execution_count": null,
      "metadata": {
        "id": "ILqGAaya90cz"
      },
      "outputs": [],
      "source": [
        "X = temp_df.drop(columns = ['is_duplicate'], axis=1)\n",
        "X"
      ]
    },
    {
      "cell_type": "code",
      "execution_count": null,
      "metadata": {
        "id": "4bu7jOqZ-H0T"
      },
      "outputs": [],
      "source": [
        "Y = temp_df['is_duplicate']"
      ]
    },
    {
      "cell_type": "code",
      "execution_count": null,
      "metadata": {
        "id": "j6n3fZOZ9oMn"
      },
      "outputs": [],
      "source": [
        "x_train, x_test, y_train, y_test = train_test_split(X,Y, test_size = 0.2, random_state = 43)"
      ]
    },
    {
      "cell_type": "code",
      "execution_count": null,
      "metadata": {
        "id": "Ul6hCkRoKufA"
      },
      "outputs": [],
      "source": [
        "from sklearn.ensemble import RandomForestClassifier\n",
        "rf_classifier = RandomForestClassifier()\n",
        "rf_classifier.fit(x_train, y_train)\n",
        "\n"
      ]
    },
    {
      "cell_type": "code",
      "execution_count": null,
      "metadata": {
        "id": "EeskpoYlMM7Z"
      },
      "outputs": [],
      "source": [
        "y_predict = rf_classifier.predict(x_test)"
      ]
    },
    {
      "cell_type": "code",
      "execution_count": null,
      "metadata": {
        "id": "3Ma08kpzMQZa"
      },
      "outputs": [],
      "source": [
        "accuracy = accuracy_score(y_test, y_predict)\n"
      ]
    },
    {
      "cell_type": "code",
      "execution_count": null,
      "metadata": {
        "id": "0N-1XPL9MVOl"
      },
      "outputs": [],
      "source": [
        "accuracy"
      ]
    },
    {
      "cell_type": "code",
      "execution_count": null,
      "metadata": {
        "id": "LbX7J1sa4qku"
      },
      "outputs": [],
      "source": [
        "temp_df"
      ]
    },
    {
      "cell_type": "code",
      "execution_count": null,
      "metadata": {
        "id": "Wh9Xg0SEMdRW"
      },
      "outputs": [],
      "source": [
        "temp_df[['num_words','num_char1','num_char2','word_share','CommonWordsCount', 'wordsin1','wordsin2','unique_words','uniqueness_per_word']].describe()"
      ]
    },
    {
      "cell_type": "code",
      "execution_count": null,
      "metadata": {
        "colab": {
          "base_uri": "https://localhost:8080/",
          "height": 217
        },
        "id": "Rg9FL8O_Mqxd",
        "outputId": "7387836e-da66-4157-ef34-2d0bd14c25c8"
      },
      "outputs": [
        {
          "ename": "NameError",
          "evalue": "ignored",
          "output_type": "error",
          "traceback": [
            "\u001b[0;31m---------------------------------------------------------------------------\u001b[0m",
            "\u001b[0;31mNameError\u001b[0m                                 Traceback (most recent call last)",
            "\u001b[0;32m<ipython-input-1-b59199d1f18a>\u001b[0m in \u001b[0;36m<cell line: 1>\u001b[0;34m()\u001b[0m\n\u001b[0;32m----> 1\u001b[0;31m \u001b[0mcorrelation\u001b[0m \u001b[0;34m=\u001b[0m \u001b[0mtemp_df\u001b[0m\u001b[0;34m[\u001b[0m\u001b[0;34m[\u001b[0m\u001b[0;34m'num_words'\u001b[0m\u001b[0;34m,\u001b[0m     \u001b[0;34m'num_char1'\u001b[0m\u001b[0;34m,\u001b[0m    \u001b[0;34m'num_char2'\u001b[0m\u001b[0;34m,\u001b[0m    \u001b[0;34m'word_share'\u001b[0m\u001b[0;34m,\u001b[0m\u001b[0;34m'unique_words'\u001b[0m     \u001b[0;34m,\u001b[0m\u001b[0;34m'CommonWordsCount'\u001b[0m\u001b[0;34m,\u001b[0m \u001b[0;34m'wordsin1'\u001b[0m\u001b[0;34m,\u001b[0m\u001b[0;34m'wordsin2'\u001b[0m\u001b[0;34m,\u001b[0m\u001b[0;34m'is_duplicate'\u001b[0m\u001b[0;34m,\u001b[0m\u001b[0;34m'uniqueness_per_word'\u001b[0m\u001b[0;34m]\u001b[0m\u001b[0;34m]\u001b[0m\u001b[0;34m.\u001b[0m\u001b[0mcorr\u001b[0m\u001b[0;34m(\u001b[0m\u001b[0;34m)\u001b[0m\u001b[0;34m\u001b[0m\u001b[0;34m\u001b[0m\u001b[0m\n\u001b[0m\u001b[1;32m      2\u001b[0m \u001b[0mcorrelation\u001b[0m\u001b[0;34m[\u001b[0m\u001b[0;34m'is_duplicate'\u001b[0m\u001b[0;34m]\u001b[0m\u001b[0;34m\u001b[0m\u001b[0;34m\u001b[0m\u001b[0m\n",
            "\u001b[0;31mNameError\u001b[0m: name 'temp_df' is not defined"
          ]
        }
      ],
      "source": [
        "correlation = temp_df[['num_words',\t'num_char1',\t'num_char2',\t'word_share','unique_words'\t,'CommonWordsCount', 'wordsin1','wordsin2','is_duplicate','uniqueness_per_word']].corr()\n",
        "correlation['is_duplicate']\n"
      ]
    },
    {
      "cell_type": "code",
      "execution_count": null,
      "metadata": {
        "id": "X5Fy1NmjUmmk"
      },
      "outputs": [],
      "source": []
    },
    {
      "cell_type": "code",
      "execution_count": null,
      "metadata": {
        "id": "5TywJlU_M6bk"
      },
      "outputs": [],
      "source": []
    },
    {
      "cell_type": "code",
      "execution_count": null,
      "metadata": {
        "id": "7rtT7gLqWLJa"
      },
      "outputs": [],
      "source": []
    },
    {
      "cell_type": "code",
      "execution_count": null,
      "metadata": {
        "id": "X-X9Rj54Tl20"
      },
      "outputs": [],
      "source": []
    }
  ],
  "metadata": {
    "colab": {
      "provenance": []
    },
    "kernelspec": {
      "display_name": "Python 3",
      "name": "python3"
    },
    "language_info": {
      "name": "python"
    }
  },
  "nbformat": 4,
  "nbformat_minor": 0
}